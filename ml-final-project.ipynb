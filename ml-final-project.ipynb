{
 "cells": [
  {
   "cell_type": "markdown",
   "source": [
    "# Data\n",
    "We are going to use the data from the following link:\n",
    "https://www.kaggle.com/datasets/asaniczka/1-3m-linkedin-jobs-and-skills-2024"
   ],
   "metadata": {
    "collapsed": false
   },
   "id": "a4834c2740d85cbb"
  },
  {
   "cell_type": "code",
   "outputs": [],
   "source": [
    "import numpy as np # linear algebra\n",
    "import pandas as pd\n",
    "import matplotlib.pyplot as plt\n",
    "import seaborn as sns"
   ],
   "metadata": {
    "collapsed": false,
    "ExecuteTime": {
     "end_time": "2024-02-17T21:49:58.766940500Z",
     "start_time": "2024-02-17T21:49:58.760205200Z"
    }
   },
   "id": "e91b32e7749845ab",
   "execution_count": 5
  },
  {
   "cell_type": "code",
   "outputs": [],
   "source": [
    "# Load the data\n",
    "job_skills = pd.read_csv('E:/Programming/cu-boulder/machine-learning/Course 1/project/data/job_skills.csv')\n",
    "job_summaries = pd.read_csv('E:/Programming/cu-boulder/machine-learning/Course 1/project/data/job_summary.csv')\n",
    "job_postings = pd.read_csv('E:/Programming/cu-boulder/machine-learning/Course 1/project/data/linkedin_job_postings.csv')"
   ],
   "metadata": {
    "collapsed": false,
    "ExecuteTime": {
     "end_time": "2024-02-17T21:54:19.570348200Z",
     "start_time": "2024-02-17T21:53:46.230914Z"
    }
   },
   "id": "535b4910c03fae40",
   "execution_count": 11
  },
  {
   "cell_type": "code",
   "outputs": [
    {
     "name": "stdout",
     "output_type": "stream",
     "text": [
      "Job Skills Invalid Values\n",
      "job_link         0\n",
      "job_skills    2085\n",
      "dtype: int64\n",
      "\n",
      "Job Summaries Invalid Values\n",
      "job_link       0\n",
      "job_summary    0\n",
      "dtype: int64\n",
      "\n",
      "Job Postings Invalid Values\n",
      "job_link                0\n",
      "last_processed_time     0\n",
      "got_summary             0\n",
      "got_ner                 0\n",
      "is_being_worked         0\n",
      "job_title               0\n",
      "company                11\n",
      "job_location           19\n",
      "first_seen              0\n",
      "search_city             0\n",
      "search_country          0\n",
      "search_position         0\n",
      "job_level               0\n",
      "job_type                0\n",
      "dtype: int64\n"
     ]
    }
   ],
   "source": [
    "print(\"Job Skills Invalid Values\")\n",
    "print(job_skills.isna().sum())\n",
    "print(\"\")\n",
    "print(\"Job Summaries Invalid Values\")\n",
    "print(job_summaries.isna().sum())\n",
    "print(\"\")\n",
    "print(\"Job Postings Invalid Values\")\n",
    "print(job_postings.isna().sum())"
   ],
   "metadata": {
    "collapsed": false,
    "ExecuteTime": {
     "end_time": "2024-02-17T21:58:25.342736300Z",
     "start_time": "2024-02-17T21:58:24.781731500Z"
    }
   },
   "id": "5d129810dbc31f73",
   "execution_count": 19
  },
  {
   "cell_type": "markdown",
   "source": [
    "As we can see, most of our data looks quite good.\n",
    "We will drop the rows with missing values in the job_skills dataset, because they are unuseable.\n",
    "We can work with the (very few) missing company and job_location values in the job_postings dataset though."
   ],
   "metadata": {
    "collapsed": false
   },
   "id": "48561f968393dd1b"
  },
  {
   "cell_type": "code",
   "outputs": [],
   "source": [],
   "metadata": {
    "collapsed": false
   },
   "id": "169680aa8228a0dd"
  }
 ],
 "metadata": {
  "kernelspec": {
   "display_name": "Python 3",
   "language": "python",
   "name": "python3"
  },
  "language_info": {
   "codemirror_mode": {
    "name": "ipython",
    "version": 2
   },
   "file_extension": ".py",
   "mimetype": "text/x-python",
   "name": "python",
   "nbconvert_exporter": "python",
   "pygments_lexer": "ipython2",
   "version": "2.7.6"
  }
 },
 "nbformat": 4,
 "nbformat_minor": 5
}
