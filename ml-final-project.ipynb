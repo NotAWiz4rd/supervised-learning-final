{
 "cells": [
  {
   "cell_type": "markdown",
   "source": [
    "# Data\n",
    "We are going to use the data from the following link:\n",
    "https://www.kaggle.com/datasets/asaniczka/1-3m-linkedin-jobs-and-skills-2024"
   ],
   "metadata": {
    "collapsed": false
   },
   "id": "a4834c2740d85cbb"
  },
  {
   "cell_type": "code",
   "outputs": [],
   "source": [
    "import numpy as np # linear algebra\n",
    "import pandas as pd\n",
    "import matplotlib.pyplot as plt\n",
    "import seaborn as sns"
   ],
   "metadata": {
    "collapsed": false,
    "ExecuteTime": {
     "end_time": "2024-02-17T21:49:58.766940500Z",
     "start_time": "2024-02-17T21:49:58.760205200Z"
    }
   },
   "id": "e91b32e7749845ab",
   "execution_count": 5
  },
  {
   "cell_type": "code",
   "outputs": [],
   "source": [
    "# Load the data\n",
    "job_skills = pd.read_csv('E:/Programming/cu-boulder/machine-learning/Course 1/project/data/job_skills.csv')\n",
    "job_summaries = pd.read_csv('E:/Programming/cu-boulder/machine-learning/Course 1/project/data/job_summary.csv')\n",
    "job_postings = pd.read_csv('E:/Programming/cu-boulder/machine-learning/Course 1/project/data/linkedin_job_postings.csv')"
   ],
   "metadata": {
    "collapsed": false,
    "ExecuteTime": {
     "end_time": "2024-02-17T21:54:19.570348200Z",
     "start_time": "2024-02-17T21:53:46.230914Z"
    }
   },
   "id": "535b4910c03fae40",
   "execution_count": 11
  },
  {
   "cell_type": "code",
   "outputs": [
    {
     "name": "stdout",
     "output_type": "stream",
     "text": [
      "Job Skills Invalid Values\n",
      "job_link         0\n",
      "job_skills    2085\n",
      "dtype: int64\n",
      "\n",
      "Job Summaries Invalid Values\n",
      "job_link       0\n",
      "job_summary    0\n",
      "dtype: int64\n",
      "\n",
      "Job Postings Invalid Values\n",
      "job_link                0\n",
      "last_processed_time     0\n",
      "got_summary             0\n",
      "got_ner                 0\n",
      "is_being_worked         0\n",
      "job_title               0\n",
      "company                11\n",
      "job_location           19\n",
      "first_seen              0\n",
      "search_city             0\n",
      "search_country          0\n",
      "search_position         0\n",
      "job_level               0\n",
      "job_type                0\n",
      "dtype: int64\n"
     ]
    }
   ],
   "source": [
    "print(\"Job Skills Invalid Values\")\n",
    "print(job_skills.isna().sum())\n",
    "print(\"\")\n",
    "print(\"Job Summaries Invalid Values\")\n",
    "print(job_summaries.isna().sum())\n",
    "print(\"\")\n",
    "print(\"Job Postings Invalid Values\")\n",
    "print(job_postings.isna().sum())"
   ],
   "metadata": {
    "collapsed": false,
    "ExecuteTime": {
     "end_time": "2024-02-17T21:58:25.342736300Z",
     "start_time": "2024-02-17T21:58:24.781731500Z"
    }
   },
   "id": "5d129810dbc31f73",
   "execution_count": 19
  },
  {
   "cell_type": "markdown",
   "source": [
    "As we can see, most of our data looks quite good.\n",
    "We will drop the rows with missing values in the job_skills dataset, because they are unuseable.\n",
    "We can work with the (very few) missing company and job_location values in the job_postings dataset though."
   ],
   "metadata": {
    "collapsed": false
   },
   "id": "48561f968393dd1b"
  },
  {
   "cell_type": "code",
   "outputs": [],
   "source": [
    "# Drop the rows with missing values\n",
    "job_skills = job_skills.dropna()"
   ],
   "metadata": {
    "collapsed": false,
    "ExecuteTime": {
     "end_time": "2024-02-17T22:04:38.832637900Z",
     "start_time": "2024-02-17T22:04:38.661598200Z"
    }
   },
   "id": "169680aa8228a0dd",
   "execution_count": 20
  },
  {
   "cell_type": "markdown",
   "source": [
    "Let's have a look at the different job titles and search positions in the job_postings dataset."
   ],
   "metadata": {
    "collapsed": false
   },
   "id": "a9c45fa8bbca498"
  },
  {
   "cell_type": "code",
   "outputs": [
    {
     "name": "stdout",
     "output_type": "stream",
     "text": [
      "Unique Job Titles:  579066\n",
      "job_title\n",
      "customer service representative                                                                                                            9436\n",
      "lead sales associate-ft                                                                                                                    7325\n",
      "shift manager                                                                                                                              5849\n",
      "store manager                                                                                                                              5748\n",
      "assistant manager                                                                                                                          5540\n",
      "                                                                                                                                           ... \n",
      "clinical rn sharp memorial 1w oncology ft night; currently offering up to $10,000 for new hires to sharp healthcare at sharp healthcare       1\n",
      ".pt faculty pool - public relations                                                                                                           1\n",
      "rn or lpn prn three rivers                                                                                                                    1\n",
      "proactive services team lead (cleaning and trolley collection) - woolworths nowra stocklands                                                  1\n",
      "on-demand: guest advocate (cashier), general merchandise, fulfillment, food and beverage, style (t2632)                                       1\n",
      "Name: count, Length: 579066, dtype: int64\n",
      "\n",
      "\n",
      "Unique Search Positions:  1993\n",
      "search_position\n",
      "Account Executive                   19468\n",
      "Christian Science Nurse             16048\n",
      "Consultant Education                12138\n",
      "Change Person                       12025\n",
      "Circulation-Sales Representative    10978\n",
      "                                    ...  \n",
      "Filter Operator                         1\n",
      "Muffler Installer                       1\n",
      "Cleaner Wall                            1\n",
      "Dry-End Operator                        1\n",
      "Playroom Attendant                      1\n",
      "Name: count, Length: 1993, dtype: int64\n"
     ]
    }
   ],
   "source": [
    "unique_titles = job_postings['job_title'].str.lower().unique()\n",
    "print(\"Unique Job Titles: \", len(unique_titles))\n",
    "print(\"Unique Job Titles (lower case): \", len(unique_titles))\n",
    "print(job_postings['job_title'].str.lower().value_counts())\n",
    "print(\"\\n\")\n",
    "\n",
    "unique_positions = job_postings['search_position'].unique()\n",
    "print(\"Unique Search Positions: \", len(unique_positions))\n",
    "print(job_postings['search_position'].value_counts())"
   ],
   "metadata": {
    "collapsed": false,
    "ExecuteTime": {
     "end_time": "2024-02-18T00:36:41.967382600Z",
     "start_time": "2024-02-18T00:36:41.082944700Z"
    }
   },
   "id": "5aa29d5eac71bbe0",
   "execution_count": 28
  },
  {
   "cell_type": "markdown",
   "source": [
    "As we can see, we have many more unique job titles than search positions (584544 Job Titles vs. 1993 Search Positions).\n",
    "If we convert the job titles to lower case, we drop by about 5000 to 579066 unique job titles. This also changes the job titles that occur most often (apparently, \"Customer Service Representative\" was written in different ways and accounted for 4000 more listings when converted to lower case).\n",
    "Lowercasing search positions does not lead to a change.\n",
    "\n",
    "It now seems like the \"search position\" would be a better job indicator than the job title, because the title frequently includes additional info, such as the location (\"Survey Crew Chief - Michigan\"), the field (\"Quality Engineer - Aerospace\"), the job level (\"Designer 1\") or general info (\"Employment Attorney with relevant experience\"); unfortunately, search position and job title frequently seem to be unrelated, as the examples below show."
   ],
   "metadata": {
    "collapsed": false
   },
   "id": "d81141409151529f"
  },
  {
   "cell_type": "code",
   "outputs": [
    {
     "name": "stdout",
     "output_type": "stream",
     "text": [
      "Designer I  -  Tattoo Artist\n",
      "Regional Sales Manager, Mid-Atlantic  -  Director Of Religious Activities\n",
      "Surgical Sales Representative  -  Handle Maker\n",
      "Keyholder  -  Reader\n",
      "Lead Software Engineer, Back End  -  Job Development Specialist\n",
      "RN - Registered Nurse - 24060503EXPPLAT  -  Driver\n",
      "Android Engineer  -  Tool Grinder Ii\n"
     ]
    }
   ],
   "source": [
    "print(job_postings.loc[56]['job_title'], \" - \", job_postings.loc[56]['search_position'])\n",
    "print(job_postings.loc[58]['job_title'], \" - \", job_postings.loc[58]['search_position'])\n",
    "print(job_postings.loc[64]['job_title'], \" - \", job_postings.loc[64]['search_position'])\n",
    "print(job_postings.loc[91]['job_title'], \" - \", job_postings.loc[91]['search_position'])\n",
    "print(job_postings.loc[124]['job_title'], \" - \", job_postings.loc[124]['search_position'])\n",
    "print(job_postings.loc[164]['job_title'], \" - \", job_postings.loc[164]['search_position'])\n",
    "print(job_postings.loc[177]['job_title'], \" - \", job_postings.loc[177]['search_position'])"
   ],
   "metadata": {
    "collapsed": false,
    "ExecuteTime": {
     "end_time": "2024-02-18T00:55:40.321114Z",
     "start_time": "2024-02-18T00:55:40.313562700Z"
    }
   },
   "id": "4f64df078a3edef8",
   "execution_count": 43
  },
  {
   "cell_type": "code",
   "outputs": [],
   "source": [],
   "metadata": {
    "collapsed": false
   },
   "id": "a5eb6873e2e71375"
  }
 ],
 "metadata": {
  "kernelspec": {
   "display_name": "Python 3",
   "language": "python",
   "name": "python3"
  },
  "language_info": {
   "codemirror_mode": {
    "name": "ipython",
    "version": 2
   },
   "file_extension": ".py",
   "mimetype": "text/x-python",
   "name": "python",
   "nbconvert_exporter": "python",
   "pygments_lexer": "ipython2",
   "version": "2.7.6"
  }
 },
 "nbformat": 4,
 "nbformat_minor": 5
}
